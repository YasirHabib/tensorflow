{
  "nbformat": 4,
  "nbformat_minor": 0,
  "metadata": {
    "colab": {
      "name": "fashion_mnist.ipynb",
      "version": "0.3.2",
      "provenance": [],
      "collapsed_sections": [],
      "include_colab_link": true
    },
    "kernelspec": {
      "name": "python3",
      "display_name": "Python 3"
    },
    "accelerator": "GPU"
  },
  "cells": [
    {
      "cell_type": "markdown",
      "metadata": {
        "id": "view-in-github",
        "colab_type": "text"
      },
      "source": [
        "<a href=\"https://colab.research.google.com/github/YasirHabib/tensorflow/blob/master/fashion_mnist.ipynb\" target=\"_parent\"><img src=\"https://colab.research.google.com/assets/colab-badge.svg\" alt=\"Open In Colab\"/></a>"
      ]
    },
    {
      "cell_type": "code",
      "metadata": {
        "id": "sSDItkk8vowx",
        "colab_type": "code",
        "colab": {}
      },
      "source": [
        "import numpy as np\n",
        "import pandas as pd\n",
        "import matplotlib.pyplot as plt"
      ],
      "execution_count": 0,
      "outputs": []
    },
    {
      "cell_type": "code",
      "metadata": {
        "id": "dXvw82U1B_CM",
        "colab_type": "code",
        "colab": {
          "base_uri": "https://localhost:8080/",
          "height": 122
        },
        "outputId": "fd2cc771-97ce-4a98-aae1-c07aa379917c"
      },
      "source": [
        "from google.colab import drive\n",
        "drive.mount('/content/gdrive')"
      ],
      "execution_count": 5,
      "outputs": [
        {
          "output_type": "stream",
          "text": [
            "Go to this URL in a browser: https://accounts.google.com/o/oauth2/auth?client_id=947318989803-6bn6qk8qdgf4n4g3pfee6491hc0brc4i.apps.googleusercontent.com&redirect_uri=urn%3Aietf%3Awg%3Aoauth%3A2.0%3Aoob&scope=email%20https%3A%2F%2Fwww.googleapis.com%2Fauth%2Fdocs.test%20https%3A%2F%2Fwww.googleapis.com%2Fauth%2Fdrive%20https%3A%2F%2Fwww.googleapis.com%2Fauth%2Fdrive.photos.readonly%20https%3A%2F%2Fwww.googleapis.com%2Fauth%2Fpeopleapi.readonly&response_type=code\n",
            "\n",
            "Enter your authorization code:\n",
            "··········\n",
            "Mounted at /content/gdrive\n"
          ],
          "name": "stdout"
        }
      ]
    },
    {
      "cell_type": "code",
      "metadata": {
        "id": "h1CsM6onWQqG",
        "colab_type": "code",
        "colab": {}
      },
      "source": [
        "df_train = pd.read_csv('/content/gdrive/My Drive/Colab Notebooks/fashion-mnist_train.csv')"
      ],
      "execution_count": 0,
      "outputs": []
    },
    {
      "cell_type": "code",
      "metadata": {
        "id": "nuPCuVYDWb_D",
        "colab_type": "code",
        "colab": {}
      },
      "source": [
        "df_test = pd.read_csv('/content/gdrive/My Drive/Colab Notebooks/fashion-mnist_test.csv')"
      ],
      "execution_count": 0,
      "outputs": []
    },
    {
      "cell_type": "code",
      "metadata": {
        "id": "EgLTEL-rdUXI",
        "colab_type": "code",
        "colab": {}
      },
      "source": [
        "data_train = df_train.values\n",
        "data_test = df_test.values\n",
        "\n",
        "Xtrain = data_train[:,1:]\n",
        "Ytrain = data_train[:,0]\n",
        "\n",
        "Xtest = data_test[:,1:]\n",
        "Ytest = data_test[:,0]"
      ],
      "execution_count": 0,
      "outputs": []
    },
    {
      "cell_type": "code",
      "metadata": {
        "id": "9DAEB3UIaNXM",
        "colab_type": "code",
        "colab": {}
      },
      "source": [
        "# Normalization\n",
        "Xtrain = (Xtrain - Xtrain.mean(axis=0)) / Xtrain.std(axis=0)\n",
        "Xtest = (Xtest - Xtest.mean(axis=0)) / Xtest.std(axis=0)"
      ],
      "execution_count": 0,
      "outputs": []
    },
    {
      "cell_type": "code",
      "metadata": {
        "id": "wZh3y-8abYP-",
        "colab_type": "code",
        "colab": {}
      },
      "source": [
        "N, D = Xtrain.shape\n",
        "K = len(set(Ytrain))\n",
        "M = 128"
      ],
      "execution_count": 0,
      "outputs": []
    },
    {
      "cell_type": "code",
      "metadata": {
        "id": "2gy3e3OwcUBt",
        "colab_type": "code",
        "colab": {}
      },
      "source": [
        "def y2indicator(Y):\n",
        "  N = len(Y)\n",
        "  K = len(set(Y))\n",
        "  ind=np.zeros((N,K))\n",
        "  for L in range(N):\n",
        "    ind[L,Y[L]]=1\n",
        "  \n",
        "  return ind"
      ],
      "execution_count": 0,
      "outputs": []
    },
    {
      "cell_type": "code",
      "metadata": {
        "id": "qewPm9W0fMcQ",
        "colab_type": "code",
        "colab": {}
      },
      "source": [
        "Ytrain_ind = y2indicator(Ytrain)\n",
        "Ytest_ind = y2indicator(Ytest)"
      ],
      "execution_count": 0,
      "outputs": []
    },
    {
      "cell_type": "code",
      "metadata": {
        "id": "WsJaBQh1fryj",
        "colab_type": "code",
        "colab": {}
      },
      "source": [
        "W1 = np.random.randn(D, M) / np.sqrt(D)\n",
        "b1 = np.zeros(M)\n",
        "\n",
        "W2 = np.random.randn(M, K) / np.sqrt(M)\n",
        "b2 = np.zeros(K)"
      ],
      "execution_count": 0,
      "outputs": []
    },
    {
      "cell_type": "code",
      "metadata": {
        "id": "00hLYsTFCusX",
        "colab_type": "code",
        "colab": {}
      },
      "source": [
        "def gradW2(Z, pY, T):\n",
        "  return Z.T.dot(pY - T)"
      ],
      "execution_count": 0,
      "outputs": []
    },
    {
      "cell_type": "code",
      "metadata": {
        "id": "zjWjRIT1EmWA",
        "colab_type": "code",
        "colab": {}
      },
      "source": [
        "def gradb2(pY, T):\n",
        "  return (pY - T).sum(axis = 0)"
      ],
      "execution_count": 0,
      "outputs": []
    },
    {
      "cell_type": "code",
      "metadata": {
        "id": "AkutJJ2wEom3",
        "colab_type": "code",
        "colab": {}
      },
      "source": [
        "def gradW1(X, W2, Z, pY, T):\n",
        "  dZ = (pY - T).dot(W2.T) * (Z > 0)\t\t# relu\n",
        "  return X.T.dot(dZ)"
      ],
      "execution_count": 0,
      "outputs": []
    },
    {
      "cell_type": "code",
      "metadata": {
        "id": "FSxG3HaOErzI",
        "colab_type": "code",
        "colab": {}
      },
      "source": [
        "def gradb1(W2, Z, pY, T):\n",
        "  dZ = (pY - T).dot(W2.T) * (Z > 0)\t\t# relu\n",
        "  return dZ.sum(axis = 0)"
      ],
      "execution_count": 0,
      "outputs": []
    },
    {
      "cell_type": "code",
      "metadata": {
        "id": "wUeuy7stNmI9",
        "colab_type": "code",
        "colab": {}
      },
      "source": [
        "def forward(X, W1, b1, W2, b2):\n",
        "  Z = X.dot(W1) + b1\n",
        "  Z[Z < 0] = 0\t\t\t\t# relu\n",
        "  \n",
        "  A = Z.dot(W2) + b2\n",
        "  expA = np.exp(A)\n",
        "  pY = expA / expA.sum(axis=1, keepdims=True)\n",
        "  \n",
        "  return Z, pY"
      ],
      "execution_count": 0,
      "outputs": []
    },
    {
      "cell_type": "code",
      "metadata": {
        "id": "crUEKdwjbBDn",
        "colab_type": "code",
        "colab": {}
      },
      "source": [
        "def cost(pY, Y):\n",
        "\treturn -(Y * np.log(pY)).sum()"
      ],
      "execution_count": 0,
      "outputs": []
    },
    {
      "cell_type": "code",
      "metadata": {
        "id": "a1yVGB5ie0mv",
        "colab_type": "code",
        "colab": {}
      },
      "source": [
        "def error_rate(pY, Y):\n",
        "  return np.mean(Y != np.argmax(pY, axis=1))"
      ],
      "execution_count": 0,
      "outputs": []
    },
    {
      "cell_type": "code",
      "metadata": {
        "id": "Utn0pxp1F4IU",
        "colab_type": "code",
        "colab": {}
      },
      "source": [
        "learning_rate = 0.0001\n",
        "training_epochs = 10\n",
        "batch_sz = 500\n",
        "n_batches = N // batch_sz\n",
        "costs = []\n",
        "\n",
        "for epoch in range(training_epochs):\n",
        "  for j in range(n_batches):\n",
        "    Xbatch = Xtrain[j*batch_sz:(batch_sz+(j*batch_sz)), :]\n",
        "    Ybatch = Ytrain_ind[j*batch_sz:(batch_sz+(j*batch_sz)), :]\n",
        "    \n",
        "    Z, pY = forward(Xbatch, W1, b1, W2, b2)\n",
        "    \n",
        "    W2 -= learning_rate * gradW2(Z, pY, Ybatch)\n",
        "    b2 -= learning_rate * gradb2(pY, Ybatch)\n",
        "    W1 -= learning_rate * gradW1(Xbatch, W2, Z, pY, Ybatch)\n",
        "    b1 -= learning_rate * gradb1(W2, Z, pY, Ybatch)\n",
        "    \n",
        "    if j % 1 == 0:\n",
        "      _,pY_test = forward(Xtest, W1, b1, W2, b2)\n",
        "      c = cost(pY_test, Ytest_ind)\n",
        "      costs.append(c)\n",
        "      e = error_rate(pY_test, Ytest)\n",
        "      print(\"Epoch\", (epoch + 1), \": cost =\", c, \"error rate =\", e)\n",
        "      \n",
        "plt.plot(costs, label=\"cost\")\n",
        "plt.show()\n",
        "  \n"
      ],
      "execution_count": 0,
      "outputs": []
    }
  ]
}