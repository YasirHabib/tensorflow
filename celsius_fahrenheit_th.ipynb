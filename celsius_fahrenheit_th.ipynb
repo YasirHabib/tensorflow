{
  "nbformat": 4,
  "nbformat_minor": 0,
  "metadata": {
    "colab": {
      "name": "celsius_fahrenheit_th.ipynb",
      "version": "0.3.2",
      "provenance": [],
      "collapsed_sections": [],
      "include_colab_link": true
    },
    "kernelspec": {
      "name": "python3",
      "display_name": "Python 3"
    },
    "accelerator": "GPU"
  },
  "cells": [
    {
      "cell_type": "markdown",
      "metadata": {
        "id": "view-in-github",
        "colab_type": "text"
      },
      "source": [
        "<a href=\"https://colab.research.google.com/github/YasirHabib/tensorflow/blob/master/celsius_fahrenheit_th.ipynb\" target=\"_parent\"><img src=\"https://colab.research.google.com/assets/colab-badge.svg\" alt=\"Open In Colab\"/></a>"
      ]
    },
    {
      "cell_type": "code",
      "metadata": {
        "id": "QATvexluVvP4",
        "colab_type": "code",
        "colab": {}
      },
      "source": [
        "import numpy as np\n",
        "import matplotlib.pyplot as plt"
      ],
      "execution_count": 0,
      "outputs": []
    },
    {
      "cell_type": "code",
      "metadata": {
        "id": "ytCLVVhWVmRC",
        "colab_type": "code",
        "colab": {}
      },
      "source": [
        "import theano.tensor as T\n",
        "import theano"
      ],
      "execution_count": 0,
      "outputs": []
    },
    {
      "cell_type": "code",
      "metadata": {
        "id": "1MLJ5iIwWHF1",
        "colab_type": "code",
        "colab": {}
      },
      "source": [
        "x = np.array([-40, -10, 0, 8, 15, 22, 38])\n",
        "y = np.array([-40, 14, 32, 46, 59, 72, 100])\n",
        "\n",
        "n = len(x) # Number of data points"
      ],
      "execution_count": 0,
      "outputs": []
    },
    {
      "cell_type": "code",
      "metadata": {
        "id": "-PQjm0CTWP1z",
        "colab_type": "code",
        "outputId": "8d535a26-7b3c-47d8-847d-1949782c7e44",
        "colab": {
          "base_uri": "https://localhost:8080/",
          "height": 295
        }
      },
      "source": [
        "# Plot of Training Data \n",
        "plt.scatter(x, y) \n",
        "plt.xlabel(\"celsius\") \n",
        "plt.ylabel(\"fahrenheit\") \n",
        "plt.title(\"Training Data\") \n",
        "plt.show()"
      ],
      "execution_count": 149,
      "outputs": [
        {
          "output_type": "display_data",
          "data": {
            "image/png": "[encoded data removed]",
            "text/plain": [
              "<Figure size 432x288 with 1 Axes>"
            ]
          },
          "metadata": {
            "tags": []
          }
        }
      ]
    },
    {
      "cell_type": "code",
      "metadata": {
        "id": "trmA38aKWZJ0",
        "colab_type": "code",
        "colab": {}
      },
      "source": [
        "X = T.vector('X')\n",
        "Y = T.vector('Y')"
      ],
      "execution_count": 0,
      "outputs": []
    },
    {
      "cell_type": "code",
      "metadata": {
        "id": "nuD9xwZjYJqu",
        "colab_type": "code",
        "colab": {}
      },
      "source": [
        "W = theano.shared(np.random.randn(), 'W')\n",
        "b = theano.shared(0., 'b')"
      ],
      "execution_count": 0,
      "outputs": []
    },
    {
      "cell_type": "code",
      "metadata": {
        "id": "i9VewvvfZbI6",
        "colab_type": "code",
        "colab": {}
      },
      "source": [
        "learning_rate = 0.0015\n",
        "training_epochs = 5000\n",
        "\n",
        "# Hypothesis \n",
        "Ypred = X.dot(W) + b\n",
        "\n",
        "# Mean Squared Error Cost Function\n",
        "cost = T.sum(T.pow(Ypred-Y,2)) / (2 * n)\n",
        "\n",
        "# Back propagation\n",
        "update_W = W - learning_rate * T.grad(cost, W)\n",
        "update_b = b - learning_rate * T.grad(cost, b)"
      ],
      "execution_count": 0,
      "outputs": []
    },
    {
      "cell_type": "code",
      "metadata": {
        "id": "k8eRVAQ-fhxa",
        "colab_type": "code",
        "colab": {}
      },
      "source": [
        "optimizer = theano.function(inputs=[X, Y], outputs=cost, updates=[(W, update_W), (b, update_b)])"
      ],
      "execution_count": 0,
      "outputs": []
    },
    {
      "cell_type": "code",
      "metadata": {
        "id": "I7zdFuHLXFCG",
        "colab_type": "code",
        "colab": {}
      },
      "source": [
        "prediction = theano.function(inputs=[X], outputs=Ypred)"
      ],
      "execution_count": 0,
      "outputs": []
    },
    {
      "cell_type": "code",
      "metadata": {
        "id": "2fyyG8K6g-Hz",
        "colab_type": "code",
        "outputId": "0d5a5833-b7e3-4f2b-9567-343def57403f",
        "colab": {
          "base_uri": "https://localhost:8080/",
          "height": 1000
        }
      },
      "source": [
        "costs=[]\n",
        "for epoch in range(training_epochs):\n",
        "  c = optimizer(x, y)\n",
        "    \n",
        "  if (epoch+1) % 50 == 0:\n",
        "    costs.append(c)\n",
        "      \n",
        "    print(\"Epoch\", (epoch + 1), \": cost =\", c, \"W =\", W.get_value(), \"b =\", b.get_value())\n",
        "    \n",
        "weight = W.get_value()\n",
        "bias = b.get_value()"
      ],
      "execution_count": 155,
      "outputs": [
        {
          "output_type": "stream",
          "text": [
            "Epoch 50 : cost = 425.3878547460653 W = 2.0487748311065355 b = 2.2313609837210517\n",
            "Epoch 100 : cost = 368.29225843044566 W = 2.031334317634651 b = 4.297944765601166\n",
            "Epoch 150 : cost = 318.8606061428429 W = 2.0151064848470583 b = 6.220834026170524\n",
            "Epoch 200 : cost = 276.06416638985297 W = 2.0000070121505344 b = 8.010020189747737\n",
            "Epoch 250 : cost = 239.01229434489107 W = 1.985957441964713 b = 9.674799952981886\n",
            "Epoch 300 : cost = 206.9338964697425 W = 1.9728847720527514 b = 11.223823590931765\n",
            "Epoch 350 : cost = 179.16138314065566 W = 1.9607210761982283 b = 12.665139904307674\n",
            "Epoch 400 : cost = 155.11677531403322 W = 1.9494031512572831 b = 14.006238041423861\n",
            "Epoch 450 : cost = 134.29967609490794 W = 1.938872188752064 b = 15.254086412170386\n",
            "Epoch 500 : cost = 116.27685688223237 W = 1.929073469299073 b = 16.415168896203276\n",
            "Epoch 550 : cost = 100.67324136627388 W = 1.919956078284639 b = 17.495518533492532\n",
            "Epoch 600 : cost = 87.16409974437782 W = 1.9114726413101568 b = 18.500748872285566\n",
            "Epoch 650 : cost = 75.46829070744057 W = 1.9035790780324526 b = 19.436083137371636\n",
            "Epoch 700 : cost = 65.34241055479005 W = 1.8962343731202163 b = 20.306381370207014\n",
            "Epoch 750 : cost = 56.57572767359521 W = 1.8894003631363863 b = 21.116165681922237\n",
            "Epoch 800 : cost = 48.98579696329359 W = 1.8830415382391081 b = 21.869643750427223\n",
            "Epoch 850 : cost = 42.41466293599242 W = 1.8771248576709032 b = 22.570730683706373\n",
            "Epoch 900 : cost = 36.72557247484365 W = 1.8716195780773173 b = 23.223069362906465\n",
            "Epoch 950 : cost = 31.80012883898692 W = 1.8664970937629835 b = 23.83004937092077\n",
            "Epoch 1000 : cost = 27.53582768651351 W = 1.8617307880550644 b = 24.39482460482353\n",
            "Epoch 1050 : cost = 23.843923837161284 W = 1.8572958950017522 b = 24.92032966366958\n",
            "Epoch 1100 : cost = 20.64758437953285 W = 1.8531693706872 b = 25.409295096810943\n",
            "Epoch 1150 : cost = 17.880289686799983 W = 1.8493297734942364 b = 25.86426159196159\n",
            "Epoch 1200 : cost = 15.484449064130388 W = 1.8457571526927001 b = 26.28759317673199\n",
            "Epoch 1250 : cost = 13.4102022178125 W = 1.842432944774495 b = 26.681489502229233\n",
            "Epoch 1300 : cost = 11.614381603223475 W = 1.8393398769967146 b = 27.04799727254925\n",
            "Epoch 1350 : cost = 10.05961405686915 W = 1.8364618776316488 b = 27.389020879548823\n",
            "Epoch 1400 : cost = 8.71354301638841 W = 1.8337839924573174 b = 27.706332298156546\n",
            "Epoch 1450 : cost = 7.548155141995483 W = 1.8312923070546208 b = 28.001580293639083\n",
            "Epoch 1500 : cost = 6.539197325551364 W = 1.8289738745073547 b = 28.27629898866413\n",
            "Epoch 1550 : cost = 5.665671954529411 W = 1.8268166481294161 b = 28.53191583467493\n",
            "Epoch 1600 : cost = 4.909399926717271 W = 1.8248094188696466 b = 28.76975902899614\n",
            "Epoch 1650 : cost = 4.254642321472258 W = 1.8229417570690685 b = 28.99106441621045\n",
            "Epoch 1700 : cost = 3.6877728540580117 W = 1.8212039582678798 b = 29.196981909665944\n",
            "Epoch 1750 : cost = 3.196994296447726 W = 1.8195869927806174 b = 29.388581466480762\n",
            "Epoch 1800 : cost = 2.7720929629736726 W = 1.8180824587774818 b = 29.56685864709131\n",
            "Epoch 1850 : cost = 2.404226151377156 W = 1.8166825386280265 b = 29.732739788231754\n",
            "Epoch 1900 : cost = 2.0857381156543036 W = 1.8153799582803798 b = 29.887086816223885\n",
            "Epoch 1950 : cost = 1.8100007408734777 W = 1.8141679494649232 b = 30.03070172558743\n",
            "Epoch 2000 : cost = 1.5712756042181835 W = 1.8130402145260394 b = 30.164330746241774\n",
            "Epoch 2050 : cost = 1.364594551581099 W = 1.8119908936991937 b = 30.28866822095227\n",
            "Epoch 2100 : cost = 1.1856563043664374 W = 1.8110145346633175 b = 30.404360213168342\n",
            "Epoch 2150 : cost = 1.0307369447651893 W = 1.8101060642102893 b = 30.512007863999973\n",
            "Epoch 2200 : cost = 0.8966124165950153 W = 1.809260761884301 b = 30.61217051577562\n",
            "Epoch 2250 : cost = 0.780491428855496 W = 1.8084742354541465 b = 30.70536861841161\n",
            "Epoch 2300 : cost = 0.6799573656415477 W = 1.8077423980909784 b = 30.792086433694738\n",
            "Epoch 2350 : cost = 0.5929179934913524 W = 1.8070614471329485 b = 30.872774551529613\n",
            "Epoch 2400 : cost = 0.517561919518919 W = 1.8064278443263986 b = 30.947852231225273\n",
            "Epoch 2450 : cost = 0.45232089417307975 W = 1.805838297440923 b = 31.01770957998656\n",
            "Epoch 2500 : cost = 0.3958371740984935 W = 1.8052897431627843 b = 31.082709579929823\n",
            "Epoch 2550 : cost = 0.3469352658812153 W = 1.8047793311777869 b = 31.143189974155213\n",
            "Epoch 2600 : cost = 0.30459746263219234 W = 1.8043044093609106 b = 31.199465021675998\n",
            "Epoch 2650 : cost = 0.26794266429612146 W = 1.8038625099957417 b = 31.25182713032339\n",
            "Epoch 2700 : cost = 0.23620804091107708 W = 1.8034513369521004 b = 31.300548376111568\n",
            "Epoch 2750 : cost = 0.20873315720942812 W = 1.8030687537552388 b = 31.34588191695763\n",
            "Epoch 2800 : cost = 0.18494622817423062 W = 1.8027127724846175 b = 31.38806330810217\n",
            "Epoch 2850 : cost = 0.16435221951271803 W = 1.8023815434445738 b = 31.427311726065625\n",
            "Epoch 2900 : cost = 0.1465225454037758 W = 1.8020733455532167 b = 31.46383110749984\n",
            "Epoch 2950 : cost = 0.13108614911704786 W = 1.8017865773996016 b = 31.49781120885272\n",
            "Epoch 3000 : cost = 0.11772178088099673 W = 1.8015197489227235 b = 31.52942859235171\n",
            "Epoch 3050 : cost = 0.10615131229290684 W = 1.8012714736690891 b = 31.55884754342961\n",
            "Epoch 3100 : cost = 0.09613394813597194 W = 1.8010404615886382 b = 31.58622092435948\n",
            "Epoch 3150 : cost = 0.0874612151443271 W = 1.8008255123315813 b = 31.611690968534347\n",
            "Epoch 3200 : cost = 0.079952623426391 W = 1.8006255090113257 b = 31.635390019518624\n",
            "Epoch 3250 : cost = 0.07345191025546774 W = 1.8004394124010794 b = 31.657441218711675\n",
            "Epoch 3300 : cost = 0.06782378805651663 W = 1.8002662555339792 b = 31.677959145196315\n",
            "Epoch 3350 : cost = 0.06295112891074016 W = 1.8001051386786837 b = 31.697050411097276\n",
            "Epoch 3400 : cost = 0.05873252698426612 W = 1.799955224664328 b = 31.714814215542823\n",
            "Epoch 3450 : cost = 0.05508018815209885 W = 1.7998157345305423 b = 31.731342860108175\n",
            "Epoch 3500 : cost = 0.051918102897919795 W = 1.799685943479938 b = 31.746722228418882\n",
            "Epoch 3550 : cost = 0.04918046446562841 W = 1.7995651771120251 b = 31.761032232406272\n",
            "Epoch 3600 : cost = 0.04681029934245354 W = 1.799452807918996 b = 31.774347227533646\n",
            "Epoch 3650 : cost = 0.0447582815723724 W = 1.7993482520251634 b = 31.786736399150822\n",
            "Epoch 3700 : cost = 0.04298170622428698 W = 1.7992509661531153 b = 31.79826412198446\n",
            "Epoch 3750 : cost = 0.04144360065159466 W = 1.799160444800821 b = 31.808990294632267\n",
            "Epoch 3800 : cost = 0.040111955047427664 W = 1.799076217615015 b = 31.81897065079896\n",
            "Epoch 3850 : cost = 0.03895905628249175 W = 1.7989978469472232 b = 31.828257048891256\n",
            "Epoch 3900 : cost = 0.037960911161878386 W = 1.7989249255797173 b = 31.836897741476562\n",
            "Epoch 3950 : cost = 0.037096747098117715 W = 1.7988570746095929 b = 31.844937626005752\n",
            "Epoch 4000 : cost = 0.0363485798089439 W = 1.7987939414799732 b = 31.85241847810231\n",
            "Epoch 4050 : cost = 0.03570083904296773 W = 1.7987351981481055 b = 31.859379168630564\n",
            "Epoch 4100 : cost = 0.035140044544225306 W = 1.7986805393808352 b = 31.86585586567051\n",
            "Epoch 4150 : cost = 0.03465452551201483 W = 1.7986296811686 b = 31.87188222244892\n",
            "Epoch 4200 : cost = 0.034234177717648445 W = 1.7985823592497039 b = 31.87748955220307\n",
            "Epoch 4250 : cost = 0.03387025322343504 W = 1.7985383277371985 b = 31.88270699088582\n",
            "Epoch 4300 : cost = 0.033555178327685974 W = 1.7984973578412449 b = 31.887561648557433\n",
            "Epoch 4350 : cost = 0.03328239594697263 W = 1.7984592366803092 b = 31.892078750250736\n",
            "Epoch 4400 : cost = 0.033046229155420624 W = 1.798423766175021 b = 31.896281767041582\n",
            "Epoch 4450 : cost = 0.03284176304112805 W = 1.7983907620189432 b = 31.90019253800572\n",
            "Epoch 4500 : cost = 0.03266474242100106 W = 1.798360052720906 b = 31.9038313836956\n",
            "Epoch 4550 : cost = 0.03251148328533242 W = 1.7983314787139324 b = 31.907217211727\n",
            "Epoch 4600 : cost = 0.032378796129174006 W = 1.7983048915261188 b = 31.910367615023883\n",
            "Epoch 4650 : cost = 0.03226391957494765 W = 1.7982801530091694 b = 31.913298963232048\n",
            "Epoch 4700 : cost = 0.032164462904888884 W = 1.79825713462057 b = 31.916026487776623\n",
            "Epoch 4750 : cost = 0.03207835630737105 W = 1.7982357167556757 b = 31.918564361005227\n",
            "Epoch 4800 : cost = 0.032003807801657125 W = 1.7982157881262386 b = 31.9209257698282\n",
            "Epoch 4850 : cost = 0.03193926594465155 W = 1.7981972451821495 b = 31.923122984238457\n",
            "Epoch 4900 : cost = 0.03188338754352494 W = 1.7981799915733867 b = 31.925167421066856\n",
            "Epoch 4950 : cost = 0.031835009702270566 W = 1.798163937649376 b = 31.927069703304664\n",
            "Epoch 5000 : cost = 0.03179312562045802 W = 1.7981489999931628 b = 31.92883971530114\n"
          ],
          "name": "stdout"
        }
      ]
    },
    {
      "cell_type": "code",
      "metadata": {
        "id": "UTZVpHGyQtKn",
        "colab_type": "code",
        "colab": {
          "base_uri": "https://localhost:8080/",
          "height": 286
        },
        "outputId": "328dd213-96d1-47ab-8957-64833669d8ef"
      },
      "source": [
        "plt.plot(costs, label=\"costs\")\n",
        "plt.legend()"
      ],
      "execution_count": 156,
      "outputs": [
        {
          "output_type": "execute_result",
          "data": {
            "text/plain": [
              "<matplotlib.legend.Legend at 0x7f05d8b866d8>"
            ]
          },
          "metadata": {
            "tags": []
          },
          "execution_count": 156
        },
        {
          "output_type": "display_data",
          "data": {
            "image/png": "[encoded data removed]",
            "text/plain": [
              "<Figure size 432x288 with 1 Axes>"
            ]
          },
          "metadata": {
            "tags": []
          }
        }
      ]
    },
    {
      "cell_type": "code",
      "metadata": {
        "id": "M2dMyE8qRjxj",
        "colab_type": "code",
        "colab": {
          "base_uri": "https://localhost:8080/",
          "height": 34
        },
        "outputId": "2edb8d5c-6897-482c-ee3e-f8f556d09bc6"
      },
      "source": [
        "print(weight*100 + bias)\n",
        "predictions = prediction(x)"
      ],
      "execution_count": 157,
      "outputs": [
        {
          "output_type": "stream",
          "text": [
            "211.74373971461742\n"
          ],
          "name": "stdout"
        }
      ]
    },
    {
      "cell_type": "code",
      "metadata": {
        "id": "bfvxI70ZRpd0",
        "colab_type": "code",
        "colab": {
          "base_uri": "https://localhost:8080/",
          "height": 281
        },
        "outputId": "e33370ff-5aac-42bb-fe21-33ad4bde4ca5"
      },
      "source": [
        "\n",
        "# Plotting the Results \n",
        "plt.plot(x, y, 'ro', label =\"Original data\") \n",
        "plt.plot(x, predictions, label =\"Fitted line\") \n",
        "plt.title(\"Linear Regression Result\") \n",
        "plt.legend() \n",
        "plt.show()"
      ],
      "execution_count": 158,
      "outputs": [
        {
          "output_type": "display_data",
          "data": {
            "image/png": "[encoded data removed]",
            "text/plain": [
              "<Figure size 432x288 with 1 Axes>"
            ]
          },
          "metadata": {
            "tags": []
          }
        }
      ]
    }
  ]
}