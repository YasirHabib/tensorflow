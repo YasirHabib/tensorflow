{
  "nbformat": 4,
  "nbformat_minor": 0,
  "metadata": {
    "colab": {
      "name": "fashion_mnist_tf.ipynb",
      "version": "0.3.2",
      "provenance": [],
      "collapsed_sections": [],
      "include_colab_link": true
    },
    "kernelspec": {
      "name": "python3",
      "display_name": "Python 3"
    },
    "accelerator": "GPU"
  },
  "cells": [
    {
      "cell_type": "markdown",
      "metadata": {
        "id": "view-in-github",
        "colab_type": "text"
      },
      "source": [
        "<a href=\"https://colab.research.google.com/github/YasirHabib/tensorflow/blob/master/fashion_mnist_tf.ipynb\" target=\"_parent\"><img src=\"https://colab.research.google.com/assets/colab-badge.svg\" alt=\"Open In Colab\"/></a>"
      ]
    },
    {
      "cell_type": "code",
      "metadata": {
        "id": "E-PK7ru-5PdN",
        "colab_type": "code",
        "colab": {}
      },
      "source": [
        "import numpy as np\n",
        "import pandas as pd\n",
        "import matplotlib.pyplot as plt"
      ],
      "execution_count": 0,
      "outputs": []
    },
    {
      "cell_type": "code",
      "metadata": {
        "id": "AfGQYNMQ5ZGs",
        "colab_type": "code",
        "colab": {}
      },
      "source": [
        "import tensorflow as tf"
      ],
      "execution_count": 0,
      "outputs": []
    },
    {
      "cell_type": "code",
      "metadata": {
        "id": "YyXeTKrZ8xM5",
        "colab_type": "code",
        "colab": {}
      },
      "source": [
        "class HiddenLayers():\n",
        "  def __init__(self, D, M):\n",
        "    self.D = D\n",
        "    self.M = M\n",
        "    \n",
        "    W = np.random.randn(D, M) / np.sqrt(D)\n",
        "    b = np.random.randn(M)\n",
        "    \n",
        "    self.W = tf.Variable(W.astype(np.float32))\n",
        "    self.b = tf.Variable(b.astype(np.float32))\n",
        "    \n",
        "    self.params = [self.W, self.b]\n",
        "    \n",
        "  def HiddenLayers_forward(self, X):\n",
        "    return tf.nn.relu(tf.matmul(X, self.W)+self.b)"
      ],
      "execution_count": 0,
      "outputs": []
    },
    {
      "cell_type": "code",
      "metadata": {
        "id": "6S70NEOS9zg5",
        "colab_type": "code",
        "colab": {}
      },
      "source": [
        "class FinalLayers():\n",
        "  def __init__(self, M, K):\n",
        "    self.M = M\n",
        "    self.K = K\n",
        "    \n",
        "    W = np.random.randn(M, K) / np.sqrt(M)\n",
        "    b = np.random.randn(K)\n",
        "    \n",
        "    self.W = tf.Variable(W.astype(np.float32))\n",
        "    self.b = tf.Variable(b.astype(np.float32))\n",
        "    \n",
        "    self.params = [self.W, self.b]\n",
        "    \n",
        "  def FinalLayers_forward(self, Z):\n",
        "    return tf.matmul(Z, self.W)+self.b"
      ],
      "execution_count": 0,
      "outputs": []
    },
    {
      "cell_type": "code",
      "metadata": {
        "id": "G51p88m47UOc",
        "colab_type": "code",
        "colab": {}
      },
      "source": [
        "class ANN():\n",
        "  def __init__(self, size):\n",
        "    self.size = size\n",
        "    \n",
        "  def set_session(self, session):\n",
        "    self.session = session\n",
        "    \n",
        "  def fit(self, Xtrain, Ytrain, Xtest, Ytest, lr=10e-2, reg=0.01, training_epochs=10, batch_sz=500):\n",
        "    \n",
        "    Xtrain = Xtrain.astype(np.float32)\n",
        "    Ytrain = Ytrain.astype(np.int32)\n",
        "    \n",
        "    Xtest = Xtest.astype(np.float32)\n",
        "    Ytest = Ytest.astype(np.int32)\n",
        "        \n",
        "    N,D = Xtrain.shape\n",
        "    K = len(set(Ytrain))\n",
        "    \n",
        "    self.layers=[]\n",
        "    h = HiddenLayers(D, self.size)\n",
        "    self.layers.append(h)\n",
        "    \n",
        "    f = FinalLayers(self.size, K)\n",
        "    self.layers.append(f)\n",
        "    \n",
        "    self.parameters = []\n",
        "    for obj in self.layers:\n",
        "      self.parameters += obj.params\n",
        "      \n",
        "    X = tf.placeholder(tf.float32)\n",
        "    Y = tf.placeholder(tf.int32)\n",
        "    logits = self.tf_forward(X)\n",
        "    \n",
        "    rcost = reg*sum([tf.nn.l2_loss(p) for p in self.parameters])\n",
        "    cost = tf.reduce_mean(tf.nn.sparse_softmax_cross_entropy_with_logits(logits=logits, labels=Y))\n",
        "    \n",
        "    train_op = tf.train.MomentumOptimizer(lr, momentum=0.9, use_nesterov=True).minimize(cost)\n",
        "    \n",
        "    pred = self.tf_forward(X)\n",
        "    prediction = tf.argmax(pred, axis=1)\n",
        "    \n",
        "    self.session.run(tf.global_variables_initializer())\n",
        "    \n",
        "    n_batches = N // batch_sz\n",
        "    costs = []\n",
        "    \n",
        "    for epoch in range(training_epochs):\n",
        "      for j in range(n_batches):\n",
        "        Xbatch = Xtrain[j*batch_sz:(j*batch_sz + batch_sz)]\n",
        "        Ybatch = Ytrain[j*batch_sz:(j*batch_sz + batch_sz)]\n",
        "        \n",
        "        self.session.run(train_op, feed_dict={X:Xbatch, Y:Ybatch})\n",
        "        \n",
        "        if j % 1 == 0:\n",
        "          c, p = self.session.run([cost, prediction], feed_dict={X:Xtest, Y:Ytest})\n",
        "          costs.append(c)\n",
        "          e = np.mean(p != Ytest)\n",
        "          print(\"Epoch\", (epoch + 1), \": cost =\", c, \"error rate =\", e)\n",
        "          \n",
        "    plt.plot(costs, label=\"cost\")\n",
        "    plt.legend\n",
        "        \n",
        "        \n",
        "  def tf_forward(self, X):\n",
        "    for obj in self.layers[:-1]:\n",
        "      Z = obj.HiddenLayers_forward(X)\n",
        "    for obj in self.layers[-1:]:\n",
        "      logits = obj.FinalLayers_forward(Z)\n",
        "    return logits"
      ],
      "execution_count": 0,
      "outputs": []
    },
    {
      "cell_type": "code",
      "metadata": {
        "id": "S1N3RKrD4Ri3",
        "colab_type": "code",
        "colab": {}
      },
      "source": [
        "def main():\n",
        "  from google.colab import drive\n",
        "  drive.mount('/content/gdrive')\n",
        "  \n",
        "  df_train = pd.read_csv('/content/gdrive/My Drive/Colab Notebooks/fashion-mnist_train.csv')\n",
        "  df_test = pd.read_csv('/content/gdrive/My Drive/Colab Notebooks/fashion-mnist_test.csv')\n",
        "  \n",
        "  data_train = df_train.values\n",
        "  data_test = df_test.values\n",
        "  \n",
        "  Xtrain = data_train[:,1:]\n",
        "  Ytrain = data_train[:,0]\n",
        "  \n",
        "  Xtest = data_test[:,1:]\n",
        "  Ytest = data_test[:,0]\n",
        "  \n",
        "  model = ANN(128)\n",
        "  session = tf.InteractiveSession()\n",
        "  model.set_session(session)\n",
        "  model.fit(Xtrain, Ytrain, Xtest, Ytest)"
      ],
      "execution_count": 0,
      "outputs": []
    },
    {
      "cell_type": "code",
      "metadata": {
        "id": "a3j9_6G76x80",
        "colab_type": "code",
        "colab": {}
      },
      "source": [
        "if __name__ == '__main__':\n",
        "  main()"
      ],
      "execution_count": 0,
      "outputs": []
    }
  ]
}