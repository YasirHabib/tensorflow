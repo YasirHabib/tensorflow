{
  "nbformat": 4,
  "nbformat_minor": 0,
  "metadata": {
    "colab": {
      "name": "fashion_mnist_Rmsprop.ipynb",
      "version": "0.3.2",
      "provenance": [],
      "collapsed_sections": [],
      "include_colab_link": true
    },
    "kernelspec": {
      "name": "python3",
      "display_name": "Python 3"
    },
    "accelerator": "GPU"
  },
  "cells": [
    {
      "cell_type": "markdown",
      "metadata": {
        "id": "view-in-github",
        "colab_type": "text"
      },
      "source": [
        "<a href=\"https://colab.research.google.com/github/YasirHabib/tensorflow/blob/master/fashion_mnist_Rmsprop.ipynb\" target=\"_parent\"><img src=\"https://colab.research.google.com/assets/colab-badge.svg\" alt=\"Open In Colab\"/></a>"
      ]
    },
    {
      "cell_type": "code",
      "metadata": {
        "id": "Ax67o8zqPrq9",
        "colab_type": "code",
        "colab": {}
      },
      "source": [
        "import numpy as np\n",
        "import pandas as pd\n",
        "import matplotlib.pyplot as plt\n",
        "from datetime import datetime"
      ],
      "execution_count": 0,
      "outputs": []
    },
    {
      "cell_type": "code",
      "metadata": {
        "id": "d0mo5F6BQD7R",
        "colab_type": "code",
        "colab": {
          "base_uri": "https://localhost:8080/",
          "height": 34
        },
        "outputId": "7b7d1a24-6b6d-4d5d-fe80-43b574105199"
      },
      "source": [
        "from google.colab import drive\n",
        "drive.mount('/content/gdrive')"
      ],
      "execution_count": 6,
      "outputs": [
        {
          "output_type": "stream",
          "text": [
            "Drive already mounted at /content/gdrive; to attempt to forcibly remount, call drive.mount(\"/content/gdrive\", force_remount=True).\n"
          ],
          "name": "stdout"
        }
      ]
    },
    {
      "cell_type": "code",
      "metadata": {
        "id": "WWw5dwxSQEtx",
        "colab_type": "code",
        "colab": {}
      },
      "source": [
        "df_train = pd.read_csv('/content/gdrive/My Drive/Colab Notebooks/fashion-mnist_train.csv')\n",
        "df_test = pd.read_csv('/content/gdrive/My Drive/Colab Notebooks/fashion-mnist_test.csv')"
      ],
      "execution_count": 0,
      "outputs": []
    },
    {
      "cell_type": "code",
      "metadata": {
        "id": "I9D1L1QfQJUU",
        "colab_type": "code",
        "colab": {}
      },
      "source": [
        "data_train = df_train.values\n",
        "data_test = df_test.values\n",
        "\n",
        "Xtrain = data_train[:,1:]\n",
        "Ytrain = data_train[:,0]\n",
        "\n",
        "Xtest = data_test[:,1:]\n",
        "Ytest = data_test[:,0]"
      ],
      "execution_count": 0,
      "outputs": []
    },
    {
      "cell_type": "code",
      "metadata": {
        "id": "agvXFI52QWMM",
        "colab_type": "code",
        "colab": {}
      },
      "source": [
        "N, D = Xtrain.shape\n",
        "K = len(set(Ytrain))\n",
        "M = 128"
      ],
      "execution_count": 0,
      "outputs": []
    },
    {
      "cell_type": "code",
      "metadata": {
        "id": "Q-k5IxcOQiCI",
        "colab_type": "code",
        "colab": {}
      },
      "source": [
        "def y2indicator(Y):\n",
        "  N = len(Y)\n",
        "  K = len(set(Y))\n",
        "  ind=np.zeros((N,K))\n",
        "  for L in range(N):\n",
        "    ind[L,Y[L]]=1\n",
        "  \n",
        "  return ind"
      ],
      "execution_count": 0,
      "outputs": []
    },
    {
      "cell_type": "code",
      "metadata": {
        "id": "qEJivA23Qnfj",
        "colab_type": "code",
        "colab": {}
      },
      "source": [
        "Ytrain_ind = y2indicator(Ytrain)\n",
        "Ytest_ind = y2indicator(Ytest)"
      ],
      "execution_count": 0,
      "outputs": []
    },
    {
      "cell_type": "code",
      "metadata": {
        "id": "wjNJt_iYQowr",
        "colab_type": "code",
        "colab": {}
      },
      "source": [
        "W1 = np.random.randn(D, M) / np.sqrt(D)\n",
        "b1 = np.zeros(M)\n",
        "\n",
        "W2 = np.random.randn(M, K) / np.sqrt(M)\n",
        "b2 = np.zeros(K)"
      ],
      "execution_count": 0,
      "outputs": []
    },
    {
      "cell_type": "code",
      "metadata": {
        "id": "u7OiNMeLQwgS",
        "colab_type": "code",
        "colab": {}
      },
      "source": [
        "def gradW2(Z, pY, T):\n",
        "  return Z.T.dot(pY - T)\n",
        "\n",
        "def gradb2(pY, T):\n",
        "  return (pY - T).sum(axis = 0)\n",
        "\n",
        "def gradW1(X, W2, Z, pY, T):\n",
        "  dZ = (pY - T).dot(W2.T) * (Z > 0)\t\t# relu\n",
        "  return X.T.dot(dZ)\n",
        "\n",
        "def gradb1(W2, Z, pY, T):\n",
        "  dZ = (pY - T).dot(W2.T) * (Z > 0)\t\t# relu\n",
        "  return dZ.sum(axis = 0)"
      ],
      "execution_count": 0,
      "outputs": []
    },
    {
      "cell_type": "code",
      "metadata": {
        "id": "0V-dloxPRCgR",
        "colab_type": "code",
        "colab": {}
      },
      "source": [
        "def forward(X, W1, b1, W2, b2):\n",
        "  Z = X.dot(W1) + b1\n",
        "  Z[Z < 0] = 0\t\t\t\t# relu\n",
        "  \n",
        "  A = Z.dot(W2) + b2\n",
        "  expA = np.exp(A)\n",
        "  pY = expA / expA.sum(axis=1, keepdims=True)\n",
        "  \n",
        "  return Z, pY"
      ],
      "execution_count": 0,
      "outputs": []
    },
    {
      "cell_type": "code",
      "metadata": {
        "id": "pz4mRvTzRHqo",
        "colab_type": "code",
        "colab": {}
      },
      "source": [
        "def cost(pY, Y):\n",
        "\treturn -(Y * np.log(pY)).sum()\n",
        "\n",
        "def error_rate(pY, Y):\n",
        "  return np.mean(Y != np.argmax(pY, axis=1))"
      ],
      "execution_count": 0,
      "outputs": []
    },
    {
      "cell_type": "code",
      "metadata": {
        "id": "C7K_4woJYsWG",
        "colab_type": "code",
        "colab": {}
      },
      "source": [
        "def momentum():\n",
        "  \n",
        "  return W1, b1, W2, b2"
      ],
      "execution_count": 0,
      "outputs": []
    },
    {
      "cell_type": "code",
      "metadata": {
        "id": "9u_4cN3GYl04",
        "colab_type": "code",
        "colab": {}
      },
      "source": [
        "learning_rate = 0.0002\n",
        "reg = 0.01\n",
        "training_epochs = 10\n",
        "batch_sz = 500\n",
        "n_batches = N // batch_sz\n",
        "costs = []\n",
        "t0 = datetime.now()\n",
        "\n",
        "for epoch in range(training_epochs):\n",
        "  for j in range(n_batches):\n",
        "    Xbatch = Xtrain[j*batch_sz:(batch_sz+(j*batch_sz)), :]\n",
        "    Ybatch = Ytrain_ind[j*batch_sz:(batch_sz+(j*batch_sz)), :]\n",
        "    \n",
        "    Z, pY = forward(Xbatch, W1, b1, W2, b2)\n",
        "    \n",
        "    gW2 = (gradW2(Z, pY, Ybatch) + reg*W2)\n",
        "    gb2 = (gradb2(pY, Ybatch) + reg*b2)\n",
        "    gW1 = (gradW1(Xbatch, W2, Z, pY, Ybatch) + reg*W1)\n",
        "    gb1 = (gradb1(W2, Z, pY, Ybatch) + reg*b1)\n",
        "    \n",
        "    momentum()\n",
        "    \n",
        "    if j % 1 == 0:\n",
        "      _,pY_test = forward(Xtest, W1, b1, W2, b2)\n",
        "      c = cost(pY_test, Ytest_ind)\n",
        "      costs.append(c)\n",
        "      e = error_rate(pY_test, Ytest)\n",
        "      print(\"Epoch\", (epoch + 1), \": cost =\", c, \"error rate =\", e)\n",
        "      \n",
        "plt.plot(costs, label=\"cost\")\n",
        "plt.show()\n",
        "\n",
        "print(\"Elapsted time for 10 epoches:\", datetime.now() - t0)"
      ],
      "execution_count": 0,
      "outputs": []
    }
  ]
}