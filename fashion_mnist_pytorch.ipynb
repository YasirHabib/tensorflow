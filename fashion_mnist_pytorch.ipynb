{
  "nbformat": 4,
  "nbformat_minor": 0,
  "metadata": {
    "colab": {
      "name": "fashion_mnist_pytorch.ipynb",
      "version": "0.3.2",
      "provenance": [],
      "collapsed_sections": [],
      "include_colab_link": true
    },
    "kernelspec": {
      "name": "python3",
      "display_name": "Python 3"
    },
    "accelerator": "GPU"
  },
  "cells": [
    {
      "cell_type": "markdown",
      "metadata": {
        "id": "view-in-github",
        "colab_type": "text"
      },
      "source": [
        "<a href=\"https://colab.research.google.com/github/YasirHabib/tensorflow/blob/master/fashion_mnist_pytorch.ipynb\" target=\"_parent\"><img src=\"https://colab.research.google.com/assets/colab-badge.svg\" alt=\"Open In Colab\"/></a>"
      ]
    },
    {
      "cell_type": "code",
      "metadata": {
        "id": "IWomXYWNlC_d",
        "colab_type": "code",
        "colab": {}
      },
      "source": [
        "import numpy as np\n",
        "import pandas as pd\n",
        "import matplotlib.pyplot as plt"
      ],
      "execution_count": 0,
      "outputs": []
    },
    {
      "cell_type": "code",
      "metadata": {
        "id": "6oHGTshDlI9_",
        "colab_type": "code",
        "colab": {}
      },
      "source": [
        "import torch\n",
        "from torch.autograd import Variable\n",
        "from torch import optim"
      ],
      "execution_count": 0,
      "outputs": []
    },
    {
      "cell_type": "code",
      "metadata": {
        "id": "ITGTAiF2lMMi",
        "colab_type": "code",
        "colab": {}
      },
      "source": [
        "class ANN():\n",
        "  def __init__(self, size):\n",
        "    self.size = size\n",
        "    \n",
        "  def fit(self, Xtrain, Ytrain, Xtest, Ytest, training_epochs=5, batch_sz=800):\n",
        "    \n",
        "    N,D = Xtrain.shape\n",
        "    K = len(set(Ytrain))\n",
        "    \n",
        "    # convert the data arrays into torch tensors\n",
        "    Xtrain = torch.from_numpy(Xtrain).float()\n",
        "    Ytrain = torch.from_numpy(Ytrain).long()\n",
        "    Xtest = torch.from_numpy(Xtest).float()\n",
        "    Ytest = torch.from_numpy(Ytest).long()\n",
        "    \n",
        "    model = torch.nn.Sequential()\n",
        "    \n",
        "    model.add_module(\"dense1\", torch.nn.Linear(D,self.size))\n",
        "    model.add_module(\"relu1\", torch.nn.ReLU())\n",
        "    model.add_module(\"dense2\", torch.nn.Linear(self.size,K))\n",
        "    # Note: no final softmax!\n",
        "    # just like Tensorflow, it's included in cross-entropy function\n",
        "    \n",
        "    loss = torch.nn.CrossEntropyLoss()\n",
        "    \n",
        "    optimizer = optim.Adam(model.parameters())\n",
        "    \n",
        "    def train(model, loss, optimizer, inputs, labels):\n",
        "      inputs = Variable(inputs, requires_grad=False)\n",
        "      labels = Variable(labels, requires_grad=False)\n",
        "      \n",
        "      optimizer.zero_grad()\n",
        "      \n",
        "      # get output from the model, given the inputs\n",
        "      logits = model.forward(inputs)\n",
        "      \n",
        "      # get loss for the predicted output\n",
        "      cost = loss.forward(logits, labels)\n",
        "      \n",
        "      # get gradients w.r.t to parameters\n",
        "      cost.backward()\n",
        "      \n",
        "      # update parameters\n",
        "      optimizer.step()\n",
        "      \n",
        "      return cost.item()\n",
        "    \n",
        "    def test(model, loss, inputs, labels):\n",
        "      inputs = Variable(inputs, requires_grad=False)\n",
        "      labels = Variable(labels, requires_grad=False)\n",
        "      \n",
        "      logits = model.forward(inputs)\n",
        "      cost = loss.forward(logits, labels)\n",
        "      \n",
        "      return cost.item()\n",
        "    \n",
        "    def predict(model, inputs):\n",
        "      inputs = Variable(inputs, requires_grad=False)\n",
        "      \n",
        "      logits = model.forward(inputs)\n",
        "      return logits.data.numpy().argmax(axis=1)\n",
        "      \n",
        "    n_batches = N // batch_sz\n",
        "\n",
        "    train_costs = []\n",
        "    test_costs = []\n",
        "    train_accuracies = []\n",
        "    test_accuracies = []\n",
        "    \n",
        "    for epoch in range(training_epochs):\n",
        "      for j in range(n_batches):\n",
        "        Xbatch = Xtrain[j*batch_sz:(j*batch_sz + batch_sz)]\n",
        "        Ybatch = Ytrain[j*batch_sz:(j*batch_sz + batch_sz)]\n",
        "        \n",
        "        train_c=train(model, loss, optimizer, Xbatch, Ybatch)\n",
        "        \n",
        "        if j%10 == 0:\n",
        "          train_costs.append(train_c)\n",
        "          \n",
        "          test_c=test(model, loss, Xtest, Ytest)\n",
        "          test_costs.append(test_c)\n",
        "          \n",
        "          p_train = predict(model, Xtrain)\n",
        "          p_test = predict(model, Xtest)\n",
        "          \n",
        "          acc_train = np.mean(p_train == Ytrain.numpy())\n",
        "          train_accuracies.append(acc_train)\n",
        "          \n",
        "          acc_test = np.mean(p_test == Ytest.numpy())\n",
        "          test_accuracies.append(acc_test)\n",
        "          \n",
        "          print(\"Epoch\", (epoch+1), \"Training Cost\", \"%.2f\" % train_c, \"Test cost\", \"%.2f\" % test_c, \"Training Acc\", \"%.2f\" % acc_train, \"Test Acc\", \"%.2f\" % acc_test)\n",
        "    \n",
        "    plt.plot(train_costs, label='Training Cost')\n",
        "    plt.plot(test_costs, label='Test Cost')\n",
        "    plt.legend()\n",
        "    plt.show()\n",
        "    \n",
        "    plt.plot(train_accuracies, label='Training accuracy')\n",
        "    plt.plot(test_accuracies, label='Test accuracy')\n",
        "    plt.legend()\n",
        "    plt.show()"
      ],
      "execution_count": 0,
      "outputs": []
    },
    {
      "cell_type": "code",
      "metadata": {
        "id": "8ecftol1kpNa",
        "colab_type": "code",
        "colab": {}
      },
      "source": [
        "def main():\n",
        "  from google.colab import drive\n",
        "  drive.mount('/content/gdrive', force_remount=True)\n",
        "  \n",
        "  df_train = pd.read_csv('/content/gdrive/My Drive/Colab Notebooks/fashion-mnist_train.csv')\n",
        "  df_test = pd.read_csv('/content/gdrive/My Drive/Colab Notebooks/fashion-mnist_test.csv')\n",
        "  \n",
        "  #print(df_train.dtypes)\n",
        "  #print(df_train.columns)\n",
        "  #print(df_train.info())\n",
        "  #print(df_train.head())\n",
        "  #print(df_train.head)\n",
        "  \n",
        "  data_train = df_train.values\n",
        "  data_test = df_test.values\n",
        "  \n",
        "  Xtrain = data_train[:,1:]\n",
        "  Ytrain = data_train[:,0]\n",
        "  \n",
        "  Xtest = data_test[:,1:]\n",
        "  Ytest = data_test[:,0]\n",
        "  \n",
        "    # Normalization\n",
        "  Xtrain = (Xtrain - Xtrain.mean(axis=0)) / Xtrain.std(axis=0)\n",
        "  Xtest = (Xtest - Xtest.mean(axis=0)) / Xtest.std(axis=0)\n",
        "  \n",
        "  model = ANN(128)\n",
        "  model.fit(Xtrain, Ytrain, Xtest, Ytest)"
      ],
      "execution_count": 0,
      "outputs": []
    },
    {
      "cell_type": "code",
      "metadata": {
        "id": "3lYsAup3k334",
        "colab_type": "code",
        "outputId": "facc9040-335c-4ac2-a067-ce3521d822ff",
        "colab": {
          "base_uri": "https://localhost:8080/",
          "height": 1000
        }
      },
      "source": [
        "if __name__ == '__main__':\n",
        "  main()"
      ],
      "execution_count": 185,
      "outputs": [
        {
          "output_type": "stream",
          "text": [
            "Mounted at /content/gdrive\n",
            "Epoch 1 Training Cost 2.31 Test cost 1.95 Training Acc 0.48 Test Acc 0.47\n",
            "Epoch 1 Training Cost 0.85 Test cost 0.82 Training Acc 0.72 Test Acc 0.71\n",
            "Epoch 1 Training Cost 0.65 Test cost 0.64 Training Acc 0.77 Test Acc 0.76\n",
            "Epoch 1 Training Cost 0.52 Test cost 0.55 Training Acc 0.80 Test Acc 0.80\n",
            "Epoch 1 Training Cost 0.46 Test cost 0.51 Training Acc 0.82 Test Acc 0.82\n",
            "Epoch 1 Training Cost 0.48 Test cost 0.48 Training Acc 0.83 Test Acc 0.83\n",
            "Epoch 1 Training Cost 0.46 Test cost 0.46 Training Acc 0.84 Test Acc 0.83\n",
            "Epoch 1 Training Cost 0.45 Test cost 0.45 Training Acc 0.84 Test Acc 0.84\n",
            "Epoch 2 Training Cost 0.41 Test cost 0.44 Training Acc 0.85 Test Acc 0.85\n",
            "Epoch 2 Training Cost 0.44 Test cost 0.43 Training Acc 0.85 Test Acc 0.85\n",
            "Epoch 2 Training Cost 0.41 Test cost 0.42 Training Acc 0.85 Test Acc 0.85\n",
            "Epoch 2 Training Cost 0.37 Test cost 0.41 Training Acc 0.86 Test Acc 0.85\n",
            "Epoch 2 Training Cost 0.37 Test cost 0.41 Training Acc 0.86 Test Acc 0.86\n",
            "Epoch 2 Training Cost 0.38 Test cost 0.40 Training Acc 0.86 Test Acc 0.86\n",
            "Epoch 2 Training Cost 0.37 Test cost 0.40 Training Acc 0.87 Test Acc 0.86\n",
            "Epoch 2 Training Cost 0.40 Test cost 0.39 Training Acc 0.87 Test Acc 0.86\n",
            "Epoch 3 Training Cost 0.36 Test cost 0.38 Training Acc 0.87 Test Acc 0.86\n",
            "Epoch 3 Training Cost 0.38 Test cost 0.38 Training Acc 0.87 Test Acc 0.86\n",
            "Epoch 3 Training Cost 0.35 Test cost 0.37 Training Acc 0.87 Test Acc 0.87\n",
            "Epoch 3 Training Cost 0.33 Test cost 0.37 Training Acc 0.87 Test Acc 0.87\n",
            "Epoch 3 Training Cost 0.34 Test cost 0.37 Training Acc 0.88 Test Acc 0.87\n",
            "Epoch 3 Training Cost 0.34 Test cost 0.36 Training Acc 0.88 Test Acc 0.87\n",
            "Epoch 3 Training Cost 0.34 Test cost 0.37 Training Acc 0.88 Test Acc 0.87\n",
            "Epoch 3 Training Cost 0.36 Test cost 0.36 Training Acc 0.88 Test Acc 0.87\n",
            "Epoch 4 Training Cost 0.33 Test cost 0.36 Training Acc 0.88 Test Acc 0.87\n",
            "Epoch 4 Training Cost 0.35 Test cost 0.36 Training Acc 0.88 Test Acc 0.87\n",
            "Epoch 4 Training Cost 0.32 Test cost 0.35 Training Acc 0.88 Test Acc 0.88\n",
            "Epoch 4 Training Cost 0.30 Test cost 0.35 Training Acc 0.88 Test Acc 0.87\n",
            "Epoch 4 Training Cost 0.31 Test cost 0.35 Training Acc 0.88 Test Acc 0.87\n",
            "Epoch 4 Training Cost 0.31 Test cost 0.35 Training Acc 0.88 Test Acc 0.87\n",
            "Epoch 4 Training Cost 0.31 Test cost 0.35 Training Acc 0.89 Test Acc 0.87\n",
            "Epoch 4 Training Cost 0.34 Test cost 0.35 Training Acc 0.89 Test Acc 0.88\n",
            "Epoch 5 Training Cost 0.31 Test cost 0.34 Training Acc 0.89 Test Acc 0.88\n",
            "Epoch 5 Training Cost 0.32 Test cost 0.34 Training Acc 0.89 Test Acc 0.88\n",
            "Epoch 5 Training Cost 0.30 Test cost 0.34 Training Acc 0.89 Test Acc 0.88\n",
            "Epoch 5 Training Cost 0.28 Test cost 0.34 Training Acc 0.89 Test Acc 0.88\n",
            "Epoch 5 Training Cost 0.29 Test cost 0.34 Training Acc 0.89 Test Acc 0.88\n",
            "Epoch 5 Training Cost 0.29 Test cost 0.33 Training Acc 0.89 Test Acc 0.88\n",
            "Epoch 5 Training Cost 0.30 Test cost 0.34 Training Acc 0.89 Test Acc 0.88\n",
            "Epoch 5 Training Cost 0.32 Test cost 0.34 Training Acc 0.89 Test Acc 0.88\n"
          ],
          "name": "stdout"
        },
        {
          "output_type": "display_data",
          "data": {
            "image/png": "[encoded data removed]",
            "text/plain": [
              "<Figure size 432x288 with 1 Axes>"
            ]
          },
          "metadata": {
            "tags": []
          }
        },
        {
          "output_type": "display_data",
          "data": {
            "image/png": "[encoded data removed]",
            "text/plain": [
              "<Figure size 432x288 with 1 Axes>"
            ]
          },
          "metadata": {
            "tags": []
          }
        }
      ]
    }
  ]
}