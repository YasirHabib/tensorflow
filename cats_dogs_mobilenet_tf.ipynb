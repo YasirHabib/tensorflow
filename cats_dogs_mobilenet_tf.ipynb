{
  "nbformat": 4,
  "nbformat_minor": 0,
  "metadata": {
    "colab": {
      "name": "cats_dogs_mobilenet_tf.ipynb",
      "provenance": [],
      "collapsed_sections": []
    },
    "kernelspec": {
      "name": "python3",
      "display_name": "Python 3"
    },
    "accelerator": "GPU"
  },
  "cells": [
    {
      "cell_type": "code",
      "metadata": {
        "id": "Wwj7sseqvy_P",
        "colab_type": "code",
        "colab": {}
      },
      "source": [
        "import tensorflow as tf\n",
        "tf.enable_eager_execution()\n",
        "import matplotlib.pyplot as plt"
      ],
      "execution_count": 0,
      "outputs": []
    },
    {
      "cell_type": "code",
      "metadata": {
        "id": "N9RtuB1bonw0",
        "colab_type": "code",
        "colab": {}
      },
      "source": [
        "import tensorflow_hub as hub\n",
        "import tensorflow_datasets as tfds\n",
        "\n",
        "from tensorflow.keras import layers"
      ],
      "execution_count": 0,
      "outputs": []
    },
    {
      "cell_type": "markdown",
      "metadata": {
        "id": "xNEJY70AZnaJ",
        "colab_type": "text"
      },
      "source": [
        "## Dataset\n",
        "\n",
        "We can use TensorFlow Datasets to load the Dogs vs Cats dataset."
      ]
    },
    {
      "cell_type": "code",
      "metadata": {
        "id": "7PUiiejvZcd9",
        "colab_type": "code",
        "colab": {}
      },
      "source": [
        "splits = tfds.Split.ALL.subsplit(weighted=(80, 20))      # 80% train, 20% validation\n",
        "\n",
        "splits, info = tfds.load('cats_vs_dogs', with_info=True, as_supervised=True, split = splits)\n",
        "# print(info)\n",
        "\n",
        "(train_examples, validation_examples) = splits\n",
        "\n",
        "num_examples = info.splits['train'].num_examples      # print(num_examples) = 23262\n",
        "num_classes = info.features['label'].num_classes      # print(num_classes) = 2"
      ],
      "execution_count": 0,
      "outputs": []
    },
    {
      "cell_type": "markdown",
      "metadata": {
        "colab_type": "text",
        "id": "UlFZ_hwjCLgS"
      },
      "source": [
        "The images in the Dogs vs. Cats dataset are not all the same size."
      ]
    },
    {
      "cell_type": "code",
      "metadata": {
        "id": "DPL6W2vJhZMO",
        "colab_type": "code",
        "colab": {
          "base_uri": "https://localhost:8080/",
          "height": 68
        },
        "outputId": "959d3fd8-e74c-444b-d708-0a1459c1da09"
      },
      "source": [
        "for i, example_image in enumerate(train_examples.take(3)):\n",
        "  print(\"Image {} shape: {}\".format(i+1, example_image[0].shape))"
      ],
      "execution_count": 16,
      "outputs": [
        {
          "output_type": "stream",
          "text": [
            "Image 1 shape: (500, 343, 3)\n",
            "Image 2 shape: (375, 500, 3)\n",
            "Image 3 shape: (375, 500, 3)\n"
          ],
          "name": "stdout"
        }
      ]
    },
    {
      "cell_type": "markdown",
      "metadata": {
        "id": "jiBBgEjApCnI",
        "colab_type": "text"
      },
      "source": [
        "MobileNet is expecting images of 224  ×  224 pixels, in 3 color channels (RGB).\n",
        "\n",
        "So we need to reformat all images to the resolution expected by MobileNet (224, 224)."
      ]
    },
    {
      "cell_type": "code",
      "metadata": {
        "id": "9pg3IRC3pR7p",
        "colab_type": "code",
        "colab": {}
      },
      "source": [
        "BATCH_SIZE = 32   # Number of training examples to process before updating our models variables\n",
        "IMAGE_RES  = 224\n",
        "\n",
        "def format_image(image, label):\n",
        "  image = tf.image.resize(image, (IMAGE_RES, IMAGE_RES))/255.0\n",
        "  return image, label\n",
        "\n",
        "train_batches      = train_examples.shuffle(num_examples).map(format_image).batch(BATCH_SIZE)\n",
        "validation_batches = validation_examples.shuffle(num_examples).map(format_image).batch(BATCH_SIZE)"
      ],
      "execution_count": 0,
      "outputs": []
    },
    {
      "cell_type": "markdown",
      "metadata": {
        "id": "beEFSDBf7qED",
        "colab_type": "text"
      },
      "source": [
        "To confirm that Training Images have been reshaped to 224  ×  224 pixels"
      ]
    },
    {
      "cell_type": "code",
      "metadata": {
        "id": "dGMV38_-7T9F",
        "colab_type": "code",
        "colab": {
          "base_uri": "https://localhost:8080/",
          "height": 68
        },
        "outputId": "c5df4e37-e06f-4a57-89c7-5d466f64410c"
      },
      "source": [
        "for i, example_image in enumerate(train_batches.take(3)):\n",
        "  print(\"Image {} shape: {}\".format(i+1, example_image[0].shape))"
      ],
      "execution_count": 18,
      "outputs": [
        {
          "output_type": "stream",
          "text": [
            "Image 1 shape: (32, 224, 224, 3)\n",
            "Image 2 shape: (32, 224, 224, 3)\n",
            "Image 3 shape: (32, 224, 224, 3)\n"
          ],
          "name": "stdout"
        }
      ]
    },
    {
      "cell_type": "markdown",
      "metadata": {
        "colab_type": "text",
        "id": "FRKLkz2EBJOR"
      },
      "source": [
        "To confirm that Validation Images have been reshaped to 224  ×  224 pixels"
      ]
    },
    {
      "cell_type": "code",
      "metadata": {
        "id": "iuY_zbop8Q56",
        "colab_type": "code",
        "colab": {
          "base_uri": "https://localhost:8080/",
          "height": 68
        },
        "outputId": "941f4d03-060d-48d8-99b1-a851ee8be95f"
      },
      "source": [
        "for i, example_image in enumerate(validation_batches.take(3)):\n",
        "  print(\"Image {} shape: {}\".format(i+1, example_image[0].shape))"
      ],
      "execution_count": 19,
      "outputs": [
        {
          "output_type": "stream",
          "text": [
            "Image 1 shape: (32, 224, 224, 3)\n",
            "Image 2 shape: (32, 224, 224, 3)\n",
            "Image 3 shape: (32, 224, 224, 3)\n"
          ],
          "name": "stdout"
        }
      ]
    },
    {
      "cell_type": "markdown",
      "metadata": {
        "colab_type": "text",
        "id": "JzV457OXreQP"
      },
      "source": [
        "# Do simple transfer learning with TensorFlow Hub\n",
        "\n",
        "Let's now use TensorFlow Hub to do Transfer Learning.\n",
        "\n",
        "With transfer learning we reuse parts of an already trained model and change the final layer, or several layers, of the model, and then retrain those layers on our own dataset.\n",
        "\n",
        "In addition to complete models, TensorFlow Hub also distributes models without the last classification layer. These can be used to easily do transfer learning. We will continue using MobileNet v2 because in later parts of this course, we will take this model and deploy it on a mobile device using [TensorFlow Lite](https://www.tensorflow.org/lite). Any [image feature vector URL from tfhub.dev](https://tfhub.dev/s?module-type=image-feature-vector&q=tf2) would work here.\n",
        "\n",
        "We'll also continue to use the Dogs vs Cats dataset, so we will be able to compare the performance of this model against the ones we created from scratch earlier.\n",
        "\n",
        "Note that we're calling the partial model from TensorFlow Hub (without the final classification layer) a `feature_extractor`. The reasoning for this term is that it will take the input all the way to a layer containing a number of features. So it has done the bulk of the work in identifying the content of an image, except for creating the final probability distribution. That is, it has extracted the features of the image."
      ]
    },
    {
      "cell_type": "code",
      "metadata": {
        "id": "IAKqE8yT6_KV",
        "colab_type": "code",
        "colab": {}
      },
      "source": [
        "URL = \"https://tfhub.dev/google/tf2-preview/mobilenet_v2/feature_vector/2\"\n",
        "feature_extractor = hub.KerasLayer(URL,\n",
        "                                   input_shape=(IMAGE_RES, IMAGE_RES, 3))"
      ],
      "execution_count": 0,
      "outputs": []
    },
    {
      "cell_type": "markdown",
      "metadata": {
        "colab_type": "text",
        "id": "CtFmF7A5E4tk"
      },
      "source": [
        "Freeze the variables in the feature extractor layer, so that the training only modifies the final classifier layer."
      ]
    },
    {
      "cell_type": "code",
      "metadata": {
        "id": "8Mz_Er02G98V",
        "colab_type": "code",
        "colab": {}
      },
      "source": [
        "feature_extractor.trainable = False"
      ],
      "execution_count": 0,
      "outputs": []
    },
    {
      "cell_type": "markdown",
      "metadata": {
        "colab_type": "text",
        "id": "RPVeouTksO9q"
      },
      "source": [
        "## Attach a classification head\n",
        "\n",
        "Now wrap the hub layer in a `tf.keras.Sequential` model, and add a new classification layer."
      ]
    },
    {
      "cell_type": "code",
      "metadata": {
        "colab_type": "code",
        "id": "mGcY27fY1q3Q",
        "colab": {
          "base_uri": "https://localhost:8080/",
          "height": 221
        },
        "outputId": "d90abad0-6b38-48e1-d8da-af776985776f"
      },
      "source": [
        "model = tf.keras.Sequential([\n",
        "  feature_extractor,\n",
        "  layers.Dense(2, activation='softmax')\n",
        "])\n",
        "\n",
        "model.summary()"
      ],
      "execution_count": 22,
      "outputs": [
        {
          "output_type": "stream",
          "text": [
            "Model: \"sequential_1\"\n",
            "_________________________________________________________________\n",
            "Layer (type)                 Output Shape              Param #   \n",
            "=================================================================\n",
            "keras_layer_1 (KerasLayer)   (None, 1280)              2257984   \n",
            "_________________________________________________________________\n",
            "dense_1 (Dense)              (None, 2)                 2562      \n",
            "=================================================================\n",
            "Total params: 2,260,546\n",
            "Trainable params: 2,562\n",
            "Non-trainable params: 2,257,984\n",
            "_________________________________________________________________\n"
          ],
          "name": "stdout"
        }
      ]
    },
    {
      "cell_type": "markdown",
      "metadata": {
        "colab_type": "text",
        "id": "OHbXQqIquFxQ"
      },
      "source": [
        "## Train the model\n",
        "\n",
        "We now train this model like any other, by first calling `compile` followed by `fit`."
      ]
    },
    {
      "cell_type": "code",
      "metadata": {
        "colab_type": "code",
        "id": "3n0Wb9ylKd8R",
        "colab": {
          "base_uri": "https://localhost:8080/",
          "height": 119
        },
        "outputId": "b6b8baa3-7402-4434-c903-b1c4670c3c67"
      },
      "source": [
        "model.compile(\n",
        "  optimizer='adam',\n",
        "  loss='sparse_categorical_crossentropy',\n",
        "  metrics=['accuracy'])\n",
        "\n",
        "EPOCHS = 3\n",
        "r = model.fit(train_batches,\n",
        "                    epochs=EPOCHS,\n",
        "                    validation_data=validation_batches)"
      ],
      "execution_count": 23,
      "outputs": [
        {
          "output_type": "stream",
          "text": [
            "Epoch 1/3\n",
            "582/582 [==============================] - 86s 148ms/step - loss: 0.0517 - acc: 0.9834 - val_loss: 0.0000e+00 - val_acc: 0.0000e+00\n",
            "Epoch 2/3\n",
            "582/582 [==============================] - 82s 141ms/step - loss: 0.0305 - acc: 0.9906 - val_loss: 0.0313 - val_acc: 0.9881\n",
            "Epoch 3/3\n",
            "582/582 [==============================] - 81s 139ms/step - loss: 0.0248 - acc: 0.9923 - val_loss: 0.0314 - val_acc: 0.9877\n"
          ],
          "name": "stdout"
        }
      ]
    },
    {
      "cell_type": "markdown",
      "metadata": {
        "id": "qOfqMUrI09Od",
        "colab_type": "text"
      },
      "source": [
        "### Visualizing results of the training"
      ]
    },
    {
      "cell_type": "code",
      "metadata": {
        "id": "KcQ5kfel0_6h",
        "colab_type": "code",
        "outputId": "d955a77d-95e9-4b3d-b7f9-156970064547",
        "colab": {
          "base_uri": "https://localhost:8080/",
          "height": 499
        }
      },
      "source": [
        "acc = r.history['acc']\n",
        "val_acc = r.history['val_acc']\n",
        "\n",
        "loss = r.history['loss']\n",
        "val_loss = r.history['val_loss']\n",
        "\n",
        "epochs_range = range(EPOCHS)\n",
        "\n",
        "plt.figure(figsize=(8, 8))\n",
        "plt.subplot(1, 2, 1)\n",
        "plt.plot(epochs_range, acc, label='Training Accuracy')\n",
        "plt.plot(epochs_range, val_acc, label='Validation Accuracy')\n",
        "plt.legend(loc='lower right')\n",
        "plt.title('Training and Validation Accuracy')\n",
        "\n",
        "plt.subplot(1, 2, 2)\n",
        "plt.plot(epochs_range, loss, label='Training Loss')\n",
        "plt.plot(epochs_range, val_loss, label='Validation Loss')\n",
        "plt.legend(loc='upper right')\n",
        "plt.title('Training and Validation Loss')\n",
        "plt.show()"
      ],
      "execution_count": 24,
      "outputs": [
        {
          "output_type": "display_data",
          "data": {
            "image/png": "[encoded data removed]",
            "text/plain": [
              "<Figure size 576x576 with 2 Axes>"
            ]
          },
          "metadata": {
            "tags": []
          }
        }
      ]
    }
  ]
}