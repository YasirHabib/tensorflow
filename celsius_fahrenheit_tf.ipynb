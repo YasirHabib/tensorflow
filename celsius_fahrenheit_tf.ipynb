{
  "nbformat": 4,
  "nbformat_minor": 0,
  "metadata": {
    "colab": {
      "name": "celsius_fahrenheit_tf.ipynb",
      "version": "0.3.2",
      "provenance": [],
      "collapsed_sections": [],
      "include_colab_link": true
    },
    "kernelspec": {
      "name": "python3",
      "display_name": "Python 3"
    }
  },
  "cells": [
    {
      "cell_type": "markdown",
      "metadata": {
        "id": "view-in-github",
        "colab_type": "text"
      },
      "source": [
        "<a href=\"https://colab.research.google.com/github/YasirHabib/tensorflow/blob/master/celsius_fahrenheit_tf.ipynb\" target=\"_parent\"><img src=\"https://colab.research.google.com/assets/colab-badge.svg\" alt=\"Open In Colab\"/></a>"
      ]
    },
    {
      "cell_type": "code",
      "metadata": {
        "id": "0t0fKBrvQido",
        "colab_type": "code",
        "colab": {}
      },
      "source": [
        "import numpy as np\n",
        "import matplotlib.pyplot as plt"
      ],
      "execution_count": 0,
      "outputs": []
    },
    {
      "cell_type": "code",
      "metadata": {
        "id": "SGovM5WFSKgl",
        "colab_type": "code",
        "colab": {}
      },
      "source": [
        "import tensorflow as tf"
      ],
      "execution_count": 0,
      "outputs": []
    },
    {
      "cell_type": "code",
      "metadata": {
        "id": "i0DkR-XTSOtG",
        "colab_type": "code",
        "colab": {}
      },
      "source": [
        "x = np.array([-40, -10, 0, 8, 15, 22, 38])\n",
        "y = np.array([-40, 14, 32, 46, 59, 72, 100])\n",
        "\n",
        "n = len(x) # Number of data points"
      ],
      "execution_count": 0,
      "outputs": []
    },
    {
      "cell_type": "code",
      "metadata": {
        "id": "yvh_W871pPJb",
        "colab_type": "code",
        "colab": {
          "base_uri": "https://localhost:8080/",
          "height": 295
        },
        "outputId": "41988b34-146f-4e80-a257-7f5e3b52490f"
      },
      "source": [
        "# Plot of Training Data \n",
        "plt.scatter(x, y) \n",
        "plt.xlabel(\"celsius\") \n",
        "plt.ylabel(\"fahrenheit\") \n",
        "plt.title(\"Training Data\") \n",
        "plt.show() "
      ],
      "execution_count": 697,
      "outputs": [
        {
          "output_type": "display_data",
          "data": {
            "image/png": "[encoded data removed]",
            "text/plain": [
              "<Figure size 432x288 with 1 Axes>"
            ]
          },
          "metadata": {
            "tags": []
          }
        }
      ]
    },
    {
      "cell_type": "code",
      "metadata": {
        "id": "mlrkDxnDSaBi",
        "colab_type": "code",
        "colab": {}
      },
      "source": [
        "X = tf.placeholder(tf.float32)\n",
        "Y = tf.placeholder(tf.float32)"
      ],
      "execution_count": 0,
      "outputs": []
    },
    {
      "cell_type": "code",
      "metadata": {
        "id": "T5xDFqmkXxjJ",
        "colab_type": "code",
        "colab": {}
      },
      "source": [
        "W = tf.Variable(np.random.randn())\n",
        "b = tf.Variable(0.)"
      ],
      "execution_count": 0,
      "outputs": []
    },
    {
      "cell_type": "code",
      "metadata": {
        "id": "EKTOkwoxY5NL",
        "colab_type": "code",
        "colab": {}
      },
      "source": [
        "learning_rate = 0.01\n",
        "training_epochs = 1000\n",
        "\n",
        "# Hypothesis \n",
        "Ypred = tf.multiply(X, W) + b\n",
        "\n",
        "# Mean Squared Error Cost Function \n",
        "cost = tf.reduce_sum((Ypred - Y) ** 2) / (2 * n)\n",
        "\n",
        "# Gradient Descent Optimizer \n",
        "optimizer = tf.train.GradientDescentOptimizer(learning_rate).minimize(cost)"
      ],
      "execution_count": 0,
      "outputs": []
    },
    {
      "cell_type": "code",
      "metadata": {
        "id": "29c3S37kbQbv",
        "colab_type": "code",
        "outputId": "42aee35c-1791-4311-d8e0-428b096bdf4e",
        "colab": {
          "base_uri": "https://localhost:8080/",
          "height": 357
        }
      },
      "source": [
        "costs=[]\n",
        "\n",
        "# Global Variables Initializer \n",
        "init = tf.global_variables_initializer() \n",
        "\n",
        "# Starting the Tensorflow Session \n",
        "with tf.Session() as sess: \n",
        "          \n",
        "    # Initializing the Variables \n",
        "    sess.run(init) \n",
        "      \n",
        "    # Iterating through all the epochs \n",
        "    for epoch in range(training_epochs):\n",
        "          \n",
        "        # Feeding each data point into the optimizer using Feed Dictionary \n",
        "        for (_x, _y) in zip(x, y): \n",
        "            sess.run(optimizer, feed_dict = {X : _x, Y : _y}) \n",
        "          \n",
        "        # Displaying the result after every 50 epochs \n",
        "        if (epoch + 1) % 50 == 0: \n",
        "            # Calculating the cost a every epoch \n",
        "            c = sess.run(cost, feed_dict = {X : x, Y : y})\n",
        "            costs.append(c)\n",
        "            print(\"Epoch\", (epoch + 1), \": cost =\", c, \"W =\", sess.run(W), \"b =\", sess.run(b)) \n",
        "      \n",
        "    # Storing necessary values to be used outside the Session \n",
        "    training_cost = sess.run(cost, feed_dict ={X: x, Y: y}) \n",
        "    weight = sess.run(W) \n",
        "    bias = sess.run(b)"
      ],
      "execution_count": 701,
      "outputs": [
        {
          "output_type": "stream",
          "text": [
            "Epoch 50 : cost = 173.33783 W = 2.2887588 b = 14.902059\n",
            "Epoch 100 : cost = 47.400227 W = 2.0406418 b = 22.86562\n",
            "Epoch 150 : cost = 13.134603 W = 1.9111112 b = 27.023018\n",
            "Epoch 200 : cost = 3.825904 W = 1.8434907 b = 29.193369\n",
            "Epoch 250 : cost = 1.3044924 W = 1.8081887 b = 30.326406\n",
            "Epoch 300 : cost = 0.6254409 W = 1.7897593 b = 30.91792\n",
            "Epoch 350 : cost = 0.44461226 W = 1.7801386 b = 31.22672\n",
            "Epoch 400 : cost = 0.39755827 W = 1.7751158 b = 31.38792\n",
            "Epoch 450 : cost = 0.38588682 W = 1.7724938 b = 31.472076\n",
            "Epoch 500 : cost = 0.38331228 W = 1.7711248 b = 31.516016\n",
            "Epoch 550 : cost = 0.38292852 W = 1.7704098 b = 31.538956\n",
            "Epoch 600 : cost = 0.38298255 W = 1.7700365 b = 31.550951\n",
            "Epoch 650 : cost = 0.38309282 W = 1.7698424 b = 31.557163\n",
            "Epoch 700 : cost = 0.38316208 W = 1.7697415 b = 31.560408\n",
            "Epoch 750 : cost = 0.38319853 W = 1.769689 b = 31.562101\n",
            "Epoch 800 : cost = 0.38323358 W = 1.7696594 b = 31.563036\n",
            "Epoch 850 : cost = 0.38324228 W = 1.7696455 b = 31.56349\n",
            "Epoch 900 : cost = 0.3832494 W = 1.7696384 b = 31.563715\n",
            "Epoch 950 : cost = 0.3832552 W = 1.7696325 b = 31.563906\n",
            "Epoch 1000 : cost = 0.38325945 W = 1.7696291 b = 31.564013\n"
          ],
          "name": "stdout"
        }
      ]
    },
    {
      "cell_type": "code",
      "metadata": {
        "id": "dlkUGIcRsoHR",
        "colab_type": "code",
        "colab": {
          "base_uri": "https://localhost:8080/",
          "height": 286
        },
        "outputId": "52fd1642-a2e9-441c-a17d-ed70f5ea9c3d"
      },
      "source": [
        "plt.plot(costs, label=\"costs\")\n",
        "plt.legend()"
      ],
      "execution_count": 702,
      "outputs": [
        {
          "output_type": "execute_result",
          "data": {
            "text/plain": [
              "<matplotlib.legend.Legend at 0x7f03f2973f98>"
            ]
          },
          "metadata": {
            "tags": []
          },
          "execution_count": 702
        },
        {
          "output_type": "display_data",
          "data": {
            "image/png": "[encoded data removed]",
            "text/plain": [
              "<Figure size 432x288 with 1 Axes>"
            ]
          },
          "metadata": {
            "tags": []
          }
        }
      ]
    },
    {
      "cell_type": "code",
      "metadata": {
        "id": "mEf6ty4UoCe_",
        "colab_type": "code",
        "colab": {
          "base_uri": "https://localhost:8080/",
          "height": 34
        },
        "outputId": "9f353b59-10e7-4264-cde9-754a41babc59"
      },
      "source": [
        "predictions = weight*x + bias\n",
        "print(weight*100 + bias)"
      ],
      "execution_count": 703,
      "outputs": [
        {
          "output_type": "stream",
          "text": [
            "208.52692461013794\n"
          ],
          "name": "stdout"
        }
      ]
    },
    {
      "cell_type": "code",
      "metadata": {
        "id": "L0h8St54o80a",
        "colab_type": "code",
        "colab": {
          "base_uri": "https://localhost:8080/",
          "height": 281
        },
        "outputId": "c18a0af6-9e2a-42d7-fce0-8a1070677038"
      },
      "source": [
        "# Plotting the Results \n",
        "plt.plot(x, y, 'ro', label =\"Original data\") \n",
        "plt.plot(x, predictions, label =\"Fitted line\") \n",
        "plt.title(\"Linear Regression Result\") \n",
        "plt.legend() \n",
        "plt.show()"
      ],
      "execution_count": 704,
      "outputs": [
        {
          "output_type": "display_data",
          "data": {
            "image/png": "[encoded data removed]",
            "text/plain": [
              "<Figure size 432x288 with 1 Axes>"
            ]
          },
          "metadata": {
            "tags": []
          }
        }
      ]
    }
  ]
}