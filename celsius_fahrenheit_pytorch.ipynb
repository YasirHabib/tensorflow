{
  "nbformat": 4,
  "nbformat_minor": 0,
  "metadata": {
    "colab": {
      "name": "celsius_fahrenheit_pytorch.ipynb",
      "version": "0.3.2",
      "provenance": [],
      "collapsed_sections": [],
      "include_colab_link": true
    },
    "kernelspec": {
      "name": "python3",
      "display_name": "Python 3"
    }
  },
  "cells": [
    {
      "cell_type": "markdown",
      "metadata": {
        "id": "view-in-github",
        "colab_type": "text"
      },
      "source": [
        "<a href=\"https://colab.research.google.com/github/YasirHabib/tensorflow/blob/master/celsius_fahrenheit_pytorch.ipynb\" target=\"_parent\"><img src=\"https://colab.research.google.com/assets/colab-badge.svg\" alt=\"Open In Colab\"/></a>"
      ]
    },
    {
      "cell_type": "code",
      "metadata": {
        "id": "qvlANwTTulm7",
        "colab_type": "code",
        "colab": {}
      },
      "source": [
        "import numpy as np\n",
        "import matplotlib.pyplot as plt\n",
        "\n",
        "import torch\n",
        "from torch.autograd import Variable\n",
        "from torch import optim"
      ],
      "execution_count": 0,
      "outputs": []
    },
    {
      "cell_type": "code",
      "metadata": {
        "id": "V5oH3LBhvkrQ",
        "colab_type": "code",
        "colab": {}
      },
      "source": [
        "x = np.array([-40, -10, 0, 8, 15, 22, 38])\n",
        "y = np.array([-40, 14, 32, 46, 59, 72, 100])\n",
        "\n",
        "x_ = x.reshape(-1,1)\n",
        "y_ = y.reshape(-1,1)\n",
        "\n",
        "x__ = torch.from_numpy(x_).float()\n",
        "y__ = torch.from_numpy(y_).float()"
      ],
      "execution_count": 0,
      "outputs": []
    },
    {
      "cell_type": "code",
      "metadata": {
        "id": "g468zlSOvqXN",
        "colab_type": "code",
        "colab": {
          "base_uri": "https://localhost:8080/",
          "height": 295
        },
        "outputId": "8b176402-5a52-41b0-de6e-8e8d6f3fab9f"
      },
      "source": [
        "# Plot of Training Data \n",
        "plt.scatter(x, y) \n",
        "plt.xlabel(\"celsius\") \n",
        "plt.ylabel(\"fahrenheit\") \n",
        "plt.title(\"Training Data\") \n",
        "plt.show()"
      ],
      "execution_count": 92,
      "outputs": [
        {
          "output_type": "display_data",
          "data": {
            "image/png": "[encoded data removed]",
            "text/plain": [
              "<Figure size 432x288 with 1 Axes>"
            ]
          },
          "metadata": {
            "tags": []
          }
        }
      ]
    },
    {
      "cell_type": "code",
      "metadata": {
        "id": "0-oi7ELIvvBA",
        "colab_type": "code",
        "colab": {}
      },
      "source": [
        "learning_rate = 0.001\n",
        "training_epochs = 2500"
      ],
      "execution_count": 0,
      "outputs": []
    },
    {
      "cell_type": "code",
      "metadata": {
        "id": "gaWFI2uWv0NG",
        "colab_type": "code",
        "colab": {}
      },
      "source": [
        "model = torch.nn.Linear(1,1)\n",
        "\n",
        "loss = torch.nn.MSELoss()\n",
        "\n",
        "optimizer = torch.optim.SGD(model.parameters(), lr = learning_rate)"
      ],
      "execution_count": 0,
      "outputs": []
    },
    {
      "cell_type": "code",
      "metadata": {
        "id": "WHoa5YJPv7Bv",
        "colab_type": "code",
        "colab": {}
      },
      "source": [
        "def train(model, loss, optimizer, inputs, labels):\n",
        "  inputs = Variable(inputs, requires_grad=False)\n",
        "  labels = Variable(labels, requires_grad=False)\n",
        "  \n",
        "  optimizer.zero_grad()\n",
        "  \n",
        "  # get output from the model, given the inputs\n",
        "  logits = model.forward(inputs)\n",
        "  # get loss for the predicted output\n",
        "  cost = loss.forward(logits, labels)\n",
        "  \n",
        "  # get gradients w.r.t to parameters\n",
        "  cost.backward()\n",
        "  # update parameters\n",
        "  optimizer.step()\n",
        "  \n",
        "  return cost.item()"
      ],
      "execution_count": 0,
      "outputs": []
    },
    {
      "cell_type": "code",
      "metadata": {
        "id": "rEKX6oGQv_Hc",
        "colab_type": "code",
        "colab": {}
      },
      "source": [
        "def predict(model, inputs):\n",
        "  inputs = Variable(inputs, requires_grad=False)\n",
        "  \n",
        "  # get output from the model, given the inputs\n",
        "  return model.forward(inputs)"
      ],
      "execution_count": 0,
      "outputs": []
    },
    {
      "cell_type": "code",
      "metadata": {
        "id": "pNhubBrswDMA",
        "colab_type": "code",
        "colab": {
          "base_uri": "https://localhost:8080/",
          "height": 901
        },
        "outputId": "867ef316-4573-43de-9cb4-89499619f52d"
      },
      "source": [
        "c = 0.\n",
        "costs=[]\n",
        "for epoch in range(training_epochs):\n",
        "  c = train(model, loss, optimizer, x__, y__)\n",
        "    \n",
        "  if (epoch+1) % 50 == 0:\n",
        "    costs.append(c)\n",
        "      \n",
        "    print(\"Epoch\", (epoch + 1), \": cost =\", c)\n",
        "    \n",
        "for param in model.parameters():\n",
        "  print(param.data)"
      ],
      "execution_count": 97,
      "outputs": [
        {
          "output_type": "stream",
          "text": [
            "Epoch 50 : cost = 819.22265625\n",
            "Epoch 100 : cost = 675.9671630859375\n",
            "Epoch 150 : cost = 557.7642822265625\n",
            "Epoch 200 : cost = 460.2331848144531\n",
            "Epoch 250 : cost = 379.7582092285156\n",
            "Epoch 300 : cost = 313.3567199707031\n",
            "Epoch 350 : cost = 258.5675354003906\n",
            "Epoch 400 : cost = 213.35997009277344\n",
            "Epoch 450 : cost = 176.0584259033203\n",
            "Epoch 500 : cost = 145.2802734375\n",
            "Epoch 550 : cost = 119.88449096679688\n",
            "Epoch 600 : cost = 98.9299545288086\n",
            "Epoch 650 : cost = 81.6399917602539\n",
            "Epoch 700 : cost = 67.3738021850586\n",
            "Epoch 750 : cost = 55.602455139160156\n",
            "Epoch 800 : cost = 45.889678955078125\n",
            "Epoch 850 : cost = 37.87549591064453\n",
            "Epoch 900 : cost = 31.26277732849121\n",
            "Epoch 950 : cost = 25.806562423706055\n",
            "Epoch 1000 : cost = 21.304466247558594\n",
            "Epoch 1050 : cost = 17.58978271484375\n",
            "Epoch 1100 : cost = 14.524758338928223\n",
            "Epoch 1150 : cost = 11.995683670043945\n",
            "Epoch 1200 : cost = 9.908884048461914\n",
            "Epoch 1250 : cost = 8.187064170837402\n",
            "Epoch 1300 : cost = 6.766333103179932\n",
            "Epoch 1350 : cost = 5.59401273727417\n",
            "Epoch 1400 : cost = 4.626744747161865\n",
            "Epoch 1450 : cost = 3.828639268875122\n",
            "Epoch 1500 : cost = 3.1701042652130127\n",
            "Epoch 1550 : cost = 2.626732349395752\n",
            "Epoch 1600 : cost = 2.1783955097198486\n",
            "Epoch 1650 : cost = 1.80846107006073\n",
            "Epoch 1700 : cost = 1.5032278299331665\n",
            "Epoch 1750 : cost = 1.2513645887374878\n",
            "Epoch 1800 : cost = 1.0435656309127808\n",
            "Epoch 1850 : cost = 0.8720855116844177\n",
            "Epoch 1900 : cost = 0.730603814125061\n",
            "Epoch 1950 : cost = 0.6138688921928406\n",
            "Epoch 2000 : cost = 0.517542839050293\n",
            "Epoch 2050 : cost = 0.43806135654449463\n",
            "Epoch 2100 : cost = 0.37247684597969055\n",
            "Epoch 2150 : cost = 0.3183693587779999\n",
            "Epoch 2200 : cost = 0.2737250030040741\n",
            "Epoch 2250 : cost = 0.236878901720047\n",
            "Epoch 2300 : cost = 0.20647813379764557\n",
            "Epoch 2350 : cost = 0.1813936084508896\n",
            "Epoch 2400 : cost = 0.16069984436035156\n",
            "Epoch 2450 : cost = 0.14362233877182007\n",
            "Epoch 2500 : cost = 0.1295304000377655\n",
            "tensor([[1.8002]])\n",
            "tensor([31.6899])\n"
          ],
          "name": "stdout"
        }
      ]
    },
    {
      "cell_type": "code",
      "metadata": {
        "id": "xsz7ZXfWwfI-",
        "colab_type": "code",
        "colab": {
          "base_uri": "https://localhost:8080/",
          "height": 286
        },
        "outputId": "9f6c1b3e-1665-478c-8b63-049e0ff08a02"
      },
      "source": [
        "plt.plot(costs, label=\"costs\")\n",
        "plt.legend()"
      ],
      "execution_count": 98,
      "outputs": [
        {
          "output_type": "execute_result",
          "data": {
            "text/plain": [
              "<matplotlib.legend.Legend at 0x7f837eb67630>"
            ]
          },
          "metadata": {
            "tags": []
          },
          "execution_count": 98
        },
        {
          "output_type": "display_data",
          "data": {
            "image/png": "[encoded data removed]",
            "text/plain": [
              "<Figure size 432x288 with 1 Axes>"
            ]
          },
          "metadata": {
            "tags": []
          }
        }
      ]
    },
    {
      "cell_type": "code",
      "metadata": {
        "id": "xkDBIKw3wn27",
        "colab_type": "code",
        "colab": {}
      },
      "source": [
        "predictions = predict(model, x__)\n",
        "predictions = predictions.data.numpy()"
      ],
      "execution_count": 0,
      "outputs": []
    },
    {
      "cell_type": "code",
      "metadata": {
        "id": "K9AlYR47wjug",
        "colab_type": "code",
        "colab": {
          "base_uri": "https://localhost:8080/",
          "height": 281
        },
        "outputId": "df6c3c54-c182-4c34-fec2-7fcdc789a679"
      },
      "source": [
        "# Plotting the Results \n",
        "plt.plot(x, y, 'ro', label =\"Original data\") \n",
        "plt.plot(x, predictions, label =\"Fitted line\") \n",
        "plt.title(\"Linear Regression Result\") \n",
        "plt.legend() \n",
        "plt.show()"
      ],
      "execution_count": 100,
      "outputs": [
        {
          "output_type": "display_data",
          "data": {
            "image/png": "[encoded data removed]",
            "text/plain": [
              "<Figure size 432x288 with 1 Axes>"
            ]
          },
          "metadata": {
            "tags": []
          }
        }
      ]
    }
  ]
}