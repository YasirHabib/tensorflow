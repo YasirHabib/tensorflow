{
  "nbformat": 4,
  "nbformat_minor": 0,
  "metadata": {
    "colab": {
      "name": "celsius_fahrenheit.ipynb",
      "version": "0.3.2",
      "provenance": [],
      "collapsed_sections": []
    },
    "kernelspec": {
      "name": "python3",
      "display_name": "Python 3"
    }
  },
  "cells": [
    {
      "cell_type": "code",
      "metadata": {
        "id": "vILkecPDE4Ol",
        "colab_type": "code",
        "colab": {}
      },
      "source": [
        "# f = 1.8c + 32\n",
        "import numpy as np\n",
        "import matplotlib.pyplot as plt"
      ],
      "execution_count": 0,
      "outputs": []
    },
    {
      "cell_type": "code",
      "metadata": {
        "id": "QL4MPuYbFiwx",
        "colab_type": "code",
        "colab": {}
      },
      "source": [
        "X = np.array([-40, -10, 0, 8, 15, 22, 38])\n",
        "T = np.array([-40, 14, 32, 46, 59, 72, 100])"
      ],
      "execution_count": 0,
      "outputs": []
    },
    {
      "cell_type": "code",
      "metadata": {
        "id": "bkI6ns2KFlTY",
        "colab_type": "code",
        "outputId": "06b09c50-e54a-48d1-f205-f9d84332b7df",
        "colab": {
          "base_uri": "https://localhost:8080/",
          "height": 34
        }
      },
      "source": [
        "d = (X.dot(X) / len(X)) - (X.mean() ** 2)\n",
        "\n",
        "num_a = (X.dot(T) / len(X)) - (X.mean() * T.mean())\n",
        "num_b = (T.mean() * X.dot(X) / len(X)) - X.mean() * (X.dot(T) / len(X))\n",
        "\n",
        "a = num_a/d\n",
        "b = num_b/d\n",
        "\n",
        "print(a, b)       # a is celsius & b is the constant 32"
      ],
      "execution_count": 0,
      "outputs": [
        {
          "output_type": "stream",
          "text": [
            "1.7979491074819598 31.952525636156473\n"
          ],
          "name": "stdout"
        }
      ]
    },
    {
      "cell_type": "code",
      "metadata": {
        "id": "ZS4aSoUSFqje",
        "colab_type": "code",
        "outputId": "6ce54d12-41f7-47ed-aa90-24fc32b36fc0",
        "colab": {
          "base_uri": "https://localhost:8080/",
          "height": 34
        }
      },
      "source": [
        "Ypred = a*X + b   # Ypred is fahrenheit\n",
        "print(a*100 + b)"
      ],
      "execution_count": 0,
      "outputs": [
        {
          "output_type": "stream",
          "text": [
            "211.74743638435245\n"
          ],
          "name": "stdout"
        }
      ]
    },
    {
      "cell_type": "code",
      "metadata": {
        "id": "fE9FjAIxFua0",
        "colab_type": "code",
        "outputId": "c9e0dd53-ec03-46b5-f3cd-dfeb0c63c075",
        "colab": {
          "base_uri": "https://localhost:8080/",
          "height": 269
        }
      },
      "source": [
        "plt.scatter(X, T, marker='o')\n",
        "plt.plot(X, Ypred, 'red')\n",
        "plt.show()"
      ],
      "execution_count": 0,
      "outputs": [
        {
          "output_type": "display_data",
          "data": {
            "image/png": "[encoded data removed]",
            "text/plain": [
              "<Figure size 432x288 with 1 Axes>"
            ]
          },
          "metadata": {
            "tags": []
          }
        }
      ]
    },
    {
      "cell_type": "code",
      "metadata": {
        "id": "-54lPCa7FxYy",
        "colab_type": "code",
        "outputId": "f62ec421-88a2-40af-f99a-907eb7d4c762",
        "colab": {
          "base_uri": "https://localhost:8080/",
          "height": 34
        }
      },
      "source": [
        "# calculating cost\n",
        "SSE = ((T-Ypred) ** 2).sum()\n",
        "SST = ((T-T.mean()) ** 2).sum()\n",
        "cost = 1-(SSE/SST)\n",
        "print(cost)"
      ],
      "execution_count": 0,
      "outputs": [
        {
          "output_type": "stream",
          "text": [
            "0.9999637062454002\n"
          ],
          "name": "stdout"
        }
      ]
    }
  ]
}